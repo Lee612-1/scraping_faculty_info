{
 "cells": [
  {
   "cell_type": "markdown",
   "metadata": {},
   "source": [
    "# Web Scraping"
   ]
  },
  {
   "cell_type": "markdown",
   "metadata": {},
   "source": [
    "## Objective"
   ]
  },
  {
   "cell_type": "markdown",
   "metadata": {},
   "source": [
    "Data scientists often need to crawl data from websites and turn the crawled data (HTML pages) to structured data (tables). Thus, web scraping is an essential skill that every data scientist should master. In this assignment, you will learn the followings:\n",
    "\n",
    "\n",
    "* How to download HTML pages from a website?\n",
    "* How to extract relevant content from an HTML page? \n",
    "\n",
    "Furthermore, you will gain a deeper understanding of the data science lifecycle.\n",
    "\n",
    "**Requirements:**\n",
    "\n",
    "1. Please use [pandas.DataFrame](http://pandas.pydata.org/pandas-docs/stable/generated/pandas.DataFrame.html) rather than spark.DataFrame to manipulate data.\n",
    "\n",
    "2. Please use [BeautifulSoup](https://www.crummy.com/software/BeautifulSoup/) rather than [lxml](http://lxml.de/) to parse an HTML page and extract data from the page.\n",
    "\n",
    "3. Please follow the python code style (https://www.python.org/dev/peps/pep-0008/). If TA finds your code hard to read, you will lose points. This requirement will stay for the whole semester."
   ]
  },
  {
   "cell_type": "markdown",
   "metadata": {},
   "source": [
    "## Preliminary"
   ]
  },
  {
   "cell_type": "markdown",
   "metadata": {},
   "source": [
    "If this is your first time to write a web scraper, you need to learn some basic knowledge of this topic. I found that this is a good resource: [Tutorial: Web Scraping and BeautifulSoup](https://realpython.com/beautiful-soup-web-scraper-python/). \n",
    "\n",
    "Please let me know if you find a better resource. I'll share it with the other students."
   ]
  },
  {
   "cell_type": "markdown",
   "metadata": {},
   "source": [
    "## Overview"
   ]
  },
  {
   "cell_type": "markdown",
   "metadata": {},
   "source": [
    "Imagine you are a data scientist working at HKUST(GZ). Your job is to extract insights from HKUST(GZ) data to answer questions. \n",
    "\n",
    "In this assignment, you will do two tasks. Please recall the high-level data science lifecycle from Lecture 1. I suggest that when doing this assignment, please remind yourself of what data you collected and what questions you tried to answer."
   ]
  },
  {
   "cell_type": "markdown",
   "metadata": {},
   "source": [
    "## Task 1: HKUST(GZ) Information Hub Faculty Members"
   ]
  },
  {
   "cell_type": "markdown",
   "metadata": {},
   "source": [
    "Sometimes you don't know what questions to ask. No worries. Start collecting data first. \n",
    "\n",
    "In Task 1, your job is to write a web scraper to extract the faculty information from this page: [https://facultyprofiles.hkust-gz.edu.cn/](https://facultyprofiles.hkust-gz.edu.cn/).\n",
    "\n",
    "\n"
   ]
  },
  {
   "cell_type": "markdown",
   "metadata": {},
   "source": [
    "### (a) Crawl Web Page"
   ]
  },
  {
   "cell_type": "markdown",
   "metadata": {},
   "source": [
    "A web page is essentially a file stored in a remote machine (called web server). Please write code to download the HTML page and save it as a text file (\"infhfaculty.html\")."
   ]
  },
  {
   "cell_type": "markdown",
   "metadata": {},
   "source": [
    "将HTML文件保存至本地"
   ]
  },
  {
   "cell_type": "code",
   "execution_count": 12,
   "metadata": {
    "ExecuteTime": {
     "end_time": "2023-09-11T16:15:23.442923Z",
     "start_time": "2023-09-11T16:15:23.439607Z"
    },
    "scrolled": true
   },
   "outputs": [
    {
     "name": "stdout",
     "output_type": "stream",
     "text": [
      "saved\n"
     ]
    }
   ],
   "source": [
    "from selenium import webdriver\n",
    "from selenium.webdriver.common.by import By\n",
    "from selenium.webdriver.support.ui import WebDriverWait\n",
    "from selenium.webdriver.support import expected_conditions as EC\n",
    "from bs4 import BeautifulSoup\n",
    "import pandas as pd\n",
    "\n",
    "#打开网页\n",
    "URL=\"https://facultyprofiles.hkust-gz.edu.cn/\"\n",
    "\n",
    "driver=webdriver.Edge()\n",
    "driver.get(URL)\n",
    "\n",
    "#等待加载\n",
    "element_present=EC.presence_of_element_located((By.CLASS_NAME,\"el-table__row\"))\n",
    "WebDriverWait(driver,10).until(element_present)\n",
    "\n",
    "#写入本地\n",
    "with open(\"infhfaculty.html\",\"w\",encoding=\"utf-8\")as f:\n",
    "    f.write(driver.page_source)\n",
    "    \n",
    "driver.quit()\n",
    "\n",
    "print(\"saved\")"
   ]
  },
  {
   "cell_type": "markdown",
   "metadata": {},
   "source": [
    "求老师的个数，以便于下载各个老师的主页HTML文件"
   ]
  },
  {
   "cell_type": "code",
   "execution_count": 49,
   "metadata": {
    "scrolled": true
   },
   "outputs": [
    {
     "name": "stdout",
     "output_type": "stream",
     "text": [
      "289\n"
     ]
    }
   ],
   "source": [
    "with open (\"infhfaculty.html\",\"r\",encoding=\"utf-8\") as f:\n",
    "    soup = BeautifulSoup(f, 'html.parser')\n",
    "\n",
    "row_count = len(soup.find_all(class_=\"el-table__row\"))\n",
    "\n",
    "print(row_count)"
   ]
  },
  {
   "cell_type": "markdown",
   "metadata": {},
   "source": [
    "将每个老师主页的HTML文件保存至本地"
   ]
  },
  {
   "cell_type": "code",
   "execution_count": 200,
   "metadata": {},
   "outputs": [
    {
     "name": "stdout",
     "output_type": "stream",
     "text": [
      "289/289，saving:  100.000 %:  ▋▋▋▋▋▋▋▋▋▋▋▋▋▋▋▋▋▋▋▋▋▋▋▋▋▋▋▋▋▋▋▋▋▋▋▋▋▋▋▋▋▋▋▋▋▋▋▋▋▋\n",
      "\n",
      "saved\n"
     ]
    }
   ],
   "source": [
    "import time\n",
    "import sys\n",
    "from selenium.common.exceptions import StaleElementReferenceException\n",
    "#打开网页\n",
    "driver=webdriver.Edge()\n",
    "driver.get(URL)\n",
    "\n",
    "#等待加载\n",
    "element_present=EC.presence_of_element_located((By.CLASS_NAME,\"el-table__row\"))\n",
    "WebDriverWait(driver,10).until(element_present)\n",
    "\n",
    "#准备列表写入\"profile\"\n",
    "profile_list=[]\n",
    "\n",
    "for i in range(1 , row_count + 1):\n",
    "    # 定位搜索按钮,执行单击操作\n",
    "    button=driver.find_element(By.XPATH,\"/html/body/div/section/section/div/div[2]/div[3]/table/tbody/tr[\"+str(i)+\"]/td[6]/div/button\")\n",
    "    button.click()\n",
    "\n",
    "    # 获取打开的多个窗口句柄,切换到当前最新打开的窗口\n",
    "    windows = driver.window_handles\n",
    "    driver.switch_to.window(windows[-1])\n",
    "\n",
    "    #等待加载\n",
    "    element_present=EC.presence_of_element_located((By.XPATH,\"/html/body/div/section/div/div[3]/div/div[1]/div/div/div[1]\"))\n",
    "    WebDriverWait(driver,10).until(element_present)\n",
    "    time.sleep(2)\n",
    "    #保存\"profile\"至列表\n",
    "    profile_list.append(driver.current_url)\n",
    "    \n",
    "    #点击research interest\n",
    "    \n",
    "\n",
    "    attempts = 0\n",
    "    while attempts < 2:\n",
    "        try:\n",
    "            try:\n",
    "                interest=driver.find_element(By.XPATH,\"/html/body/div/section/div/div[3]/div/div[1]/div/div/div/div[4]\")\n",
    "            except:\n",
    "                try:\n",
    "                    interest=driver.find_element(By.XPATH,\"/html/body/div/section/div/div[3]/div/div[1]/div/div/div/div[3]\")\n",
    "                except:\n",
    "                    try:\n",
    "                        interest=driver.find_element(By.XPATH,\"/html/body/div/section/div/div[3]/div/div[1]/div/div/div/div[2]\")\n",
    "                    except:\n",
    "                        pass\n",
    "            interest.click()\n",
    "            break\n",
    "        except StaleElementReferenceException:\n",
    "            attempts += 1\n",
    "\n",
    "    \n",
    "    \n",
    "    \n",
    "    \n",
    "    #等待加载\n",
    "    element_present=EC.presence_of_element_located((By.XPATH,\"/html/body/div/section/div/div[5]/div\"))\n",
    "    WebDriverWait(driver,10).until(element_present)\n",
    "    \n",
    "    #保存至本地\n",
    "    with open(\"faculty_\"+str(i)+\".html\",\"w\",encoding=\"utf-8\")as f:\n",
    "        f.write(driver.page_source)\n",
    "    \n",
    "    #进度条\n",
    "    print(\"\\r\", end=\"\")\n",
    "    print(str(i)+\"/\"+str(row_count)+\"，saving: {}%: \".format(\" %.3f \" %(i*100/row_count)), \"▋\" * int(round(i*100/row_count)/2), end=\"\" )\n",
    "    sys.stdout.flush()\n",
    "    \n",
    "    # 关闭当前页面并加载新窗口\n",
    "    driver.close()\n",
    "    windows = driver.window_handles\n",
    "    driver.switch_to.window(windows[-1])\n",
    "\n",
    "driver.quit()\n",
    "print(\"\\n\")\n",
    "print(\"saved\")"
   ]
  },
  {
   "cell_type": "markdown",
   "metadata": {},
   "source": [
    "### (b) Extract Structured Data"
   ]
  },
  {
   "cell_type": "markdown",
   "metadata": {},
   "source": [
    "Please write code to extract relevant content (name, rank, area, profile, homepage, ...) from \"infhfaculty.html\" and save them as a CSV file (save as \"faculty_table.csv\"). "
   ]
  },
  {
   "cell_type": "markdown",
   "metadata": {},
   "source": [
    "把\"profile\"列表写入csv文件"
   ]
  },
  {
   "cell_type": "code",
   "execution_count": 280,
   "metadata": {},
   "outputs": [
    {
     "name": "stdout",
     "output_type": "stream",
     "text": [
      "写入\"profile\"成功\n"
     ]
    }
   ],
   "source": [
    "import pandas as pd\n",
    "\n",
    "df = pd.read_csv(\"faculty_table.csv\")\n",
    "df[\"profile\"] = profile_list\n",
    "df.to_csv(\"faculty_table.csv\", index=False)\n",
    "\n",
    "print(\"写入\\\"profile\\\"成功\")"
   ]
  },
  {
   "cell_type": "markdown",
   "metadata": {
    "ExecuteTime": {
     "end_time": "2023-09-11T16:19:55.088770Z",
     "start_time": "2023-09-11T16:19:55.083561Z"
    },
    "scrolled": true
   },
   "source": [
    "从\"infhfaculty.html\"中获取\"Name\"，\"Rank\"，\"Email\"。"
   ]
  },
  {
   "cell_type": "code",
   "execution_count": 43,
   "metadata": {},
   "outputs": [
    {
     "name": "stdout",
     "output_type": "stream",
     "text": [
      "写入\"Name\"，\"Rank\"，\"Email\"成功\n"
     ]
    }
   ],
   "source": [
    "from bs4 import BeautifulSoup\n",
    "\n",
    "with open (\"infhfaculty.html\",\"r\",encoding=\"utf-8\") as f:\n",
    "    soup = BeautifulSoup(f, 'html.parser')\n",
    "\n",
    "#找到所有教师的姓名\n",
    "column_name = soup.find_all(\"td\", class_=\"el-table_1_column_1\")\n",
    "#创建姓名列表\n",
    "name_list=[]\n",
    "#将教师姓名写入列表\n",
    "for name in column_name:\n",
    "    name_list.append(name.text)\n",
    "\n",
    "#对\"Rank\"和\"Email\"进行同样的操作\n",
    "column_rank=soup.find_all(\"td\", class_=\"el-table_1_column_3\")\n",
    "rank_list=[]\n",
    "for rank in column_rank:\n",
    "    rank_list.append(rank.text)\n",
    "\n",
    "column_em=soup.find_all(\"td\", class_=\"el-table_1_column_5\")\n",
    "em_list=[]\n",
    "for em in column_em:\n",
    "    em_list.append(em.text)\n",
    "\n",
    "    \n",
    "#写入csv文件\n",
    "df[\"name\"] = name_list\n",
    "df[\"rank\"] = rank_list\n",
    "df[\"email\"] = em_list\n",
    "df.to_csv(\"faculty_table.csv\", index=False)\n",
    "\n",
    "print(\"写入\\\"Name\\\"，\\\"Rank\\\"，\\\"Email\\\"成功\")  "
   ]
  },
  {
   "cell_type": "code",
   "execution_count": 44,
   "metadata": {
    "scrolled": true
   },
   "outputs": [
    {
     "data": {
      "text/html": [
       "<div>\n",
       "<style scoped>\n",
       "    .dataframe tbody tr th:only-of-type {\n",
       "        vertical-align: middle;\n",
       "    }\n",
       "\n",
       "    .dataframe tbody tr th {\n",
       "        vertical-align: top;\n",
       "    }\n",
       "\n",
       "    .dataframe thead th {\n",
       "        text-align: right;\n",
       "    }\n",
       "</style>\n",
       "<table border=\"1\" class=\"dataframe\">\n",
       "  <thead>\n",
       "    <tr style=\"text-align: right;\">\n",
       "      <th></th>\n",
       "      <th>name</th>\n",
       "      <th>rank</th>\n",
       "      <th>area</th>\n",
       "      <th>profile</th>\n",
       "      <th>homepage</th>\n",
       "      <th>email</th>\n",
       "      <th>office</th>\n",
       "    </tr>\n",
       "  </thead>\n",
       "  <tbody>\n",
       "    <tr>\n",
       "      <th>0</th>\n",
       "      <td>Lei CHEN</td>\n",
       "      <td>Chair Professor</td>\n",
       "      <td>Data-driven machine learning,Crowdsourcing-bas...</td>\n",
       "      <td>https://facultyprofiles.hkust-gz.edu.cn/facult...</td>\n",
       "      <td>https://facultyprofiles.ust.hk/profiles.php?pr...</td>\n",
       "      <td>leichen@hkust-gz.edu.cn</td>\n",
       "      <td>E3 L5 511</td>\n",
       "    </tr>\n",
       "    <tr>\n",
       "      <th>1</th>\n",
       "      <td>Jimmy Chi Hung FUNG</td>\n",
       "      <td>Chair ProfessorChair Professor</td>\n",
       "      <td>Atmospheric science and weather prediction,Reg...</td>\n",
       "      <td>https://facultyprofiles.hkust-gz.edu.cn/facult...</td>\n",
       "      <td>NaN</td>\n",
       "      <td>majfung@ust.hk</td>\n",
       "      <td>NaN</td>\n",
       "    </tr>\n",
       "    <tr>\n",
       "      <th>2</th>\n",
       "      <td>Pan HUI</td>\n",
       "      <td>Chair ProfessorChair Professor</td>\n",
       "      <td>Mobile computing,Computer networking,Data anal...</td>\n",
       "      <td>https://facultyprofiles.hkust-gz.edu.cn/facult...</td>\n",
       "      <td>https://panhui.people.ust.hk</td>\n",
       "      <td>panhui@hkust-gz.edu.cn</td>\n",
       "      <td>E1 L6 605</td>\n",
       "    </tr>\n",
       "    <tr>\n",
       "      <th>3</th>\n",
       "      <td>Alexis Kai-Hon LAU</td>\n",
       "      <td>Chair ProfessorChair Professor</td>\n",
       "      <td>Air pollution exposure and health impact asses...</td>\n",
       "      <td>https://facultyprofiles.hkust-gz.edu.cn/facult...</td>\n",
       "      <td>NaN</td>\n",
       "      <td>alau@ust.hk</td>\n",
       "      <td>NaN</td>\n",
       "    </tr>\n",
       "    <tr>\n",
       "      <th>4</th>\n",
       "      <td>Vincent Kin Nang LAU</td>\n",
       "      <td>Chair ProfessorChair Professor</td>\n",
       "      <td>Stochastic Optimization and Analysis for wirel...</td>\n",
       "      <td>https://facultyprofiles.hkust-gz.edu.cn/facult...</td>\n",
       "      <td>https://eeknlau.home.ece.ust.hk/HKUST-Office-H...</td>\n",
       "      <td>eeknlau@ust.hk</td>\n",
       "      <td>CWB Room 2416</td>\n",
       "    </tr>\n",
       "  </tbody>\n",
       "</table>\n",
       "</div>"
      ],
      "text/plain": [
       "                   name                            rank  \\\n",
       "0              Lei CHEN                 Chair Professor   \n",
       "1   Jimmy Chi Hung FUNG  Chair ProfessorChair Professor   \n",
       "2               Pan HUI  Chair ProfessorChair Professor   \n",
       "3    Alexis Kai-Hon LAU  Chair ProfessorChair Professor   \n",
       "4  Vincent Kin Nang LAU  Chair ProfessorChair Professor   \n",
       "\n",
       "                                                area  \\\n",
       "0  Data-driven machine learning,Crowdsourcing-bas...   \n",
       "1  Atmospheric science and weather prediction,Reg...   \n",
       "2  Mobile computing,Computer networking,Data anal...   \n",
       "3  Air pollution exposure and health impact asses...   \n",
       "4  Stochastic Optimization and Analysis for wirel...   \n",
       "\n",
       "                                             profile  \\\n",
       "0  https://facultyprofiles.hkust-gz.edu.cn/facult...   \n",
       "1  https://facultyprofiles.hkust-gz.edu.cn/facult...   \n",
       "2  https://facultyprofiles.hkust-gz.edu.cn/facult...   \n",
       "3  https://facultyprofiles.hkust-gz.edu.cn/facult...   \n",
       "4  https://facultyprofiles.hkust-gz.edu.cn/facult...   \n",
       "\n",
       "                                            homepage                    email  \\\n",
       "0  https://facultyprofiles.ust.hk/profiles.php?pr...  leichen@hkust-gz.edu.cn   \n",
       "1                                                NaN           majfung@ust.hk   \n",
       "2                       https://panhui.people.ust.hk   panhui@hkust-gz.edu.cn   \n",
       "3                                                NaN              alau@ust.hk   \n",
       "4  https://eeknlau.home.ece.ust.hk/HKUST-Office-H...           eeknlau@ust.hk   \n",
       "\n",
       "          office  \n",
       "0      E3 L5 511  \n",
       "1            NaN  \n",
       "2      E1 L6 605  \n",
       "3            NaN  \n",
       "4  CWB Room 2416  "
      ]
     },
     "execution_count": 44,
     "metadata": {},
     "output_type": "execute_result"
    }
   ],
   "source": [
    "#查看csv文件，找到需要爬取的数据\n",
    "df = pd.read_csv(\"faculty_table.csv\")\n",
    "df.head()"
   ]
  },
  {
   "cell_type": "markdown",
   "metadata": {},
   "source": [
    "从之前保存的各个详情页\"faculty_i.html\"中获取\"area\"，\"homepage\"，\"office\"。"
   ]
  },
  {
   "cell_type": "code",
   "execution_count": 50,
   "metadata": {},
   "outputs": [
    {
     "name": "stdout",
     "output_type": "stream",
     "text": [
      "写入\"area\"，\"homepage\"，\"office\"成功\n"
     ]
    }
   ],
   "source": [
    "import re\n",
    "\n",
    "#创建相应的空列表\n",
    "area_list=[]\n",
    "homepage_list=[]\n",
    "office_list=[]\n",
    "year_list=[]\n",
    "\n",
    "#解析保存的各个教师主页\n",
    "for i in range(1 , row_count + 1):\n",
    "\n",
    "    with open (\"faculty_\"+str(i)+\".html\",\"r\",encoding=\"utf-8\") as f:\n",
    "        soup = BeautifulSoup(f, 'html.parser')\n",
    "    \n",
    "    #找到\"area\"所在位置\n",
    "    interest=soup.find_all(\"p\", class_=\"content\")\n",
    "    area_i=\"\"\n",
    "    for res_in in interest:\n",
    "        area_i=area_i+res_in.text+\",\"\n",
    "    \n",
    "    #写入列表，去除多余符号\n",
    "    area_list.append(area_i.rstrip(\",\"))\n",
    "    \n",
    "    #对\"homepage\"和\"office\"进行同样的操作\n",
    "    hp_i=soup.find(\"a\",string=\"Personal Web\")\n",
    "    homepage_list.append(hp_i.get(\"href\"))\n",
    "    \n",
    "    office_i=soup.find(\"p\",class_=\"icon-text\")\n",
    "    office_list.append(office_i.text)\n",
    "     \n",
    "    #顺便将毕业年份写入列表\n",
    "    grad=soup.find(\"div\",class_=\"degree-detail\")\n",
    "    grad_text=grad.text\n",
    "    #使用正则表达式来提取字符串中的年份\n",
    "    year_i= re.findall(r\"\\b\\d{4}\\b\", grad_text)\n",
    "    try:\n",
    "        year_i=int(year_i[0])\n",
    "    except:\n",
    "        year_i=0\n",
    "    year_list.append(year_i)\n",
    "    \n",
    "#写入csv文件\n",
    "df[\"area\"] = area_list\n",
    "df[\"homepage\"] = homepage_list\n",
    "df[\"office\"] = office_list\n",
    "df.to_csv(\"faculty_table.csv\", index=False)\n",
    "\n",
    "print(\"写入\\\"area\\\"，\\\"homepage\\\"，\\\"office\\\"成功\")  "
   ]
  },
  {
   "cell_type": "code",
   "execution_count": 39,
   "metadata": {
    "scrolled": true
   },
   "outputs": [
    {
     "data": {
      "text/html": [
       "<div>\n",
       "<style scoped>\n",
       "    .dataframe tbody tr th:only-of-type {\n",
       "        vertical-align: middle;\n",
       "    }\n",
       "\n",
       "    .dataframe tbody tr th {\n",
       "        vertical-align: top;\n",
       "    }\n",
       "\n",
       "    .dataframe thead th {\n",
       "        text-align: right;\n",
       "    }\n",
       "</style>\n",
       "<table border=\"1\" class=\"dataframe\">\n",
       "  <thead>\n",
       "    <tr style=\"text-align: right;\">\n",
       "      <th></th>\n",
       "      <th>name</th>\n",
       "      <th>rank</th>\n",
       "      <th>area</th>\n",
       "      <th>profile</th>\n",
       "      <th>homepage</th>\n",
       "      <th>email</th>\n",
       "      <th>office</th>\n",
       "    </tr>\n",
       "  </thead>\n",
       "  <tbody>\n",
       "    <tr>\n",
       "      <th>0</th>\n",
       "      <td>Lei CHEN</td>\n",
       "      <td>Chair Professor</td>\n",
       "      <td>Data-driven machine learning,Crowdsourcing-bas...</td>\n",
       "      <td>https://facultyprofiles.hkust-gz.edu.cn/facult...</td>\n",
       "      <td>https://facultyprofiles.ust.hk/profiles.php?pr...</td>\n",
       "      <td>leichen@hkust-gz.edu.cn</td>\n",
       "      <td>E3 L5 511</td>\n",
       "    </tr>\n",
       "    <tr>\n",
       "      <th>1</th>\n",
       "      <td>Jimmy Chi Hung FUNG</td>\n",
       "      <td>Chair ProfessorChair Professor</td>\n",
       "      <td>Atmospheric science and weather prediction,Reg...</td>\n",
       "      <td>https://facultyprofiles.hkust-gz.edu.cn/facult...</td>\n",
       "      <td>NaN</td>\n",
       "      <td>majfung@ust.hk</td>\n",
       "      <td>NaN</td>\n",
       "    </tr>\n",
       "    <tr>\n",
       "      <th>2</th>\n",
       "      <td>Pan HUI</td>\n",
       "      <td>Chair ProfessorChair Professor</td>\n",
       "      <td>Mobile computing,Computer networking,Data anal...</td>\n",
       "      <td>https://facultyprofiles.hkust-gz.edu.cn/facult...</td>\n",
       "      <td>https://panhui.people.ust.hk</td>\n",
       "      <td>panhui@hkust-gz.edu.cn</td>\n",
       "      <td>E1 L6 605</td>\n",
       "    </tr>\n",
       "    <tr>\n",
       "      <th>3</th>\n",
       "      <td>Alexis Kai-Hon LAU</td>\n",
       "      <td>Chair ProfessorChair Professor</td>\n",
       "      <td>Air pollution exposure and health impact asses...</td>\n",
       "      <td>https://facultyprofiles.hkust-gz.edu.cn/facult...</td>\n",
       "      <td>NaN</td>\n",
       "      <td>alau@ust.hk</td>\n",
       "      <td>NaN</td>\n",
       "    </tr>\n",
       "    <tr>\n",
       "      <th>4</th>\n",
       "      <td>Vincent Kin Nang LAU</td>\n",
       "      <td>Chair ProfessorChair Professor</td>\n",
       "      <td>Stochastic Optimization and Analysis for wirel...</td>\n",
       "      <td>https://facultyprofiles.hkust-gz.edu.cn/facult...</td>\n",
       "      <td>https://eeknlau.home.ece.ust.hk/HKUST-Office-H...</td>\n",
       "      <td>eeknlau@ust.hk</td>\n",
       "      <td>CWB Room 2416</td>\n",
       "    </tr>\n",
       "  </tbody>\n",
       "</table>\n",
       "</div>"
      ],
      "text/plain": [
       "                   name                            rank  \\\n",
       "0              Lei CHEN                 Chair Professor   \n",
       "1   Jimmy Chi Hung FUNG  Chair ProfessorChair Professor   \n",
       "2               Pan HUI  Chair ProfessorChair Professor   \n",
       "3    Alexis Kai-Hon LAU  Chair ProfessorChair Professor   \n",
       "4  Vincent Kin Nang LAU  Chair ProfessorChair Professor   \n",
       "\n",
       "                                                area  \\\n",
       "0  Data-driven machine learning,Crowdsourcing-bas...   \n",
       "1  Atmospheric science and weather prediction,Reg...   \n",
       "2  Mobile computing,Computer networking,Data anal...   \n",
       "3  Air pollution exposure and health impact asses...   \n",
       "4  Stochastic Optimization and Analysis for wirel...   \n",
       "\n",
       "                                             profile  \\\n",
       "0  https://facultyprofiles.hkust-gz.edu.cn/facult...   \n",
       "1  https://facultyprofiles.hkust-gz.edu.cn/facult...   \n",
       "2  https://facultyprofiles.hkust-gz.edu.cn/facult...   \n",
       "3  https://facultyprofiles.hkust-gz.edu.cn/facult...   \n",
       "4  https://facultyprofiles.hkust-gz.edu.cn/facult...   \n",
       "\n",
       "                                            homepage                    email  \\\n",
       "0  https://facultyprofiles.ust.hk/profiles.php?pr...  leichen@hkust-gz.edu.cn   \n",
       "1                                                NaN           majfung@ust.hk   \n",
       "2                       https://panhui.people.ust.hk   panhui@hkust-gz.edu.cn   \n",
       "3                                                NaN              alau@ust.hk   \n",
       "4  https://eeknlau.home.ece.ust.hk/HKUST-Office-H...           eeknlau@ust.hk   \n",
       "\n",
       "          office  \n",
       "0      E3 L5 511  \n",
       "1            NaN  \n",
       "2      E1 L6 605  \n",
       "3            NaN  \n",
       "4  CWB Room 2416  "
      ]
     },
     "execution_count": 39,
     "metadata": {},
     "output_type": "execute_result"
    }
   ],
   "source": [
    "#核对csv文件\n",
    "df = pd.read_csv(\"faculty_table.csv\")\n",
    "df.head()"
   ]
  },
  {
   "cell_type": "markdown",
   "metadata": {},
   "source": [
    "### (c) Interesting Finding"
   ]
  },
  {
   "cell_type": "markdown",
   "metadata": {},
   "source": [
    "Note that you don't need to do anything for Task 1(c). The purpose of this part is to give you some sense about how to leverage Exploratory Data Analysis (EDA) to come up with interesting questions about the data. EDA is an important topic in data science; you will  learn it soon from this course. \n",
    "\n",
    "\n",
    "First, please install [dataprep](http://dataprep.ai).\n",
    "Then, run the cell below. \n",
    "It shows a bar chart for every column. What interesting findings can you get from these visualizations? "
   ]
  },
  {
   "cell_type": "code",
   "execution_count": 26,
   "metadata": {},
   "outputs": [
    {
     "name": "stdout",
     "output_type": "stream",
     "text": [
      "Requirement already satisfied: dataprep in c:\\users\\lee\\miniconda3\\envs\\a1\\lib\\site-packages (0.4.5)\n",
      "Requirement already satisfied: aiohttp<4.0,>=3.6 in c:\\users\\lee\\miniconda3\\envs\\a1\\lib\\site-packages (from dataprep) (3.8.5)\n",
      "Requirement already satisfied: bokeh<3,>=2 in c:\\users\\lee\\miniconda3\\envs\\a1\\lib\\site-packages (from dataprep) (2.4.3)\n",
      "Requirement already satisfied: dask[array,dataframe,delayed]>=2022.3.0 in c:\\users\\lee\\miniconda3\\envs\\a1\\lib\\site-packages (from dataprep) (2023.9.1)\n",
      "Requirement already satisfied: flask<3,>=2 in c:\\users\\lee\\miniconda3\\envs\\a1\\lib\\site-packages (from dataprep) (2.2.5)\n",
      "Requirement already satisfied: flask_cors<4.0.0,>=3.0.10 in c:\\users\\lee\\miniconda3\\envs\\a1\\lib\\site-packages (from dataprep) (3.0.10)\n",
      "Requirement already satisfied: ipywidgets<8.0,>=7.5 in c:\\users\\lee\\miniconda3\\envs\\a1\\lib\\site-packages (from dataprep) (7.8.0)\n",
      "Requirement already satisfied: jinja2<3.1,>=3.0 in c:\\users\\lee\\miniconda3\\envs\\a1\\lib\\site-packages (from dataprep) (3.0.3)\n",
      "Requirement already satisfied: jsonpath-ng<2.0,>=1.5 in c:\\users\\lee\\miniconda3\\envs\\a1\\lib\\site-packages (from dataprep) (1.5.3)\n",
      "Requirement already satisfied: metaphone<0.7,>=0.6 in c:\\users\\lee\\miniconda3\\envs\\a1\\lib\\site-packages (from dataprep) (0.6)\n",
      "Requirement already satisfied: nltk<4.0.0,>=3.6.7 in c:\\users\\lee\\miniconda3\\envs\\a1\\lib\\site-packages (from dataprep) (3.8.1)\n",
      "Requirement already satisfied: numpy<2.0,>=1.21 in c:\\users\\lee\\miniconda3\\envs\\a1\\lib\\site-packages (from dataprep) (1.25.2)\n",
      "Requirement already satisfied: pandas<2.0,>=1.1 in c:\\users\\lee\\miniconda3\\envs\\a1\\lib\\site-packages (from dataprep) (1.5.3)\n",
      "Requirement already satisfied: pydantic<2.0,>=1.6 in c:\\users\\lee\\miniconda3\\envs\\a1\\lib\\site-packages (from dataprep) (1.10.12)\n",
      "Requirement already satisfied: pydot<2.0.0,>=1.4.2 in c:\\users\\lee\\miniconda3\\envs\\a1\\lib\\site-packages (from dataprep) (1.4.2)\n",
      "Requirement already satisfied: python-crfsuite==0.9.8 in c:\\users\\lee\\miniconda3\\envs\\a1\\lib\\site-packages (from dataprep) (0.9.8)\n",
      "Requirement already satisfied: python-stdnum<2.0,>=1.16 in c:\\users\\lee\\miniconda3\\envs\\a1\\lib\\site-packages (from dataprep) (1.19)\n",
      "Requirement already satisfied: rapidfuzz<3.0.0,>=2.1.2 in c:\\users\\lee\\miniconda3\\envs\\a1\\lib\\site-packages (from dataprep) (2.15.1)\n",
      "Requirement already satisfied: regex<2022.0.0,>=2021.8.3 in c:\\users\\lee\\miniconda3\\envs\\a1\\lib\\site-packages (from dataprep) (2021.11.10)\n",
      "Requirement already satisfied: scipy<2.0,>=1.8 in c:\\users\\lee\\miniconda3\\envs\\a1\\lib\\site-packages (from dataprep) (1.11.2)\n",
      "Requirement already satisfied: sqlalchemy==1.3.24 in c:\\users\\lee\\miniconda3\\envs\\a1\\lib\\site-packages (from dataprep) (1.3.24)\n",
      "Requirement already satisfied: tqdm<5.0,>=4.48 in c:\\users\\lee\\miniconda3\\envs\\a1\\lib\\site-packages (from dataprep) (4.66.1)\n",
      "Requirement already satisfied: varname<0.9.0,>=0.8.1 in c:\\users\\lee\\miniconda3\\envs\\a1\\lib\\site-packages (from dataprep) (0.8.3)\n",
      "Requirement already satisfied: wordcloud<2.0,>=1.8 in c:\\users\\lee\\miniconda3\\envs\\a1\\lib\\site-packages (from dataprep) (1.9.2)\n",
      "Requirement already satisfied: attrs>=17.3.0 in c:\\users\\lee\\miniconda3\\envs\\a1\\lib\\site-packages (from aiohttp<4.0,>=3.6->dataprep) (23.1.0)\n",
      "Requirement already satisfied: charset-normalizer<4.0,>=2.0 in c:\\users\\lee\\miniconda3\\envs\\a1\\lib\\site-packages (from aiohttp<4.0,>=3.6->dataprep) (3.2.0)\n",
      "Requirement already satisfied: multidict<7.0,>=4.5 in c:\\users\\lee\\miniconda3\\envs\\a1\\lib\\site-packages (from aiohttp<4.0,>=3.6->dataprep) (6.0.4)\n",
      "Requirement already satisfied: async-timeout<5.0,>=4.0.0a3 in c:\\users\\lee\\miniconda3\\envs\\a1\\lib\\site-packages (from aiohttp<4.0,>=3.6->dataprep) (4.0.3)\n",
      "Requirement already satisfied: yarl<2.0,>=1.0 in c:\\users\\lee\\miniconda3\\envs\\a1\\lib\\site-packages (from aiohttp<4.0,>=3.6->dataprep) (1.9.2)\n",
      "Requirement already satisfied: frozenlist>=1.1.1 in c:\\users\\lee\\miniconda3\\envs\\a1\\lib\\site-packages (from aiohttp<4.0,>=3.6->dataprep) (1.4.0)\n",
      "Requirement already satisfied: aiosignal>=1.1.2 in c:\\users\\lee\\miniconda3\\envs\\a1\\lib\\site-packages (from aiohttp<4.0,>=3.6->dataprep) (1.3.1)\n",
      "Requirement already satisfied: packaging>=16.8 in c:\\users\\lee\\miniconda3\\envs\\a1\\lib\\site-packages (from bokeh<3,>=2->dataprep) (23.1)\n",
      "Requirement already satisfied: pillow>=7.1.0 in c:\\users\\lee\\miniconda3\\envs\\a1\\lib\\site-packages (from bokeh<3,>=2->dataprep) (10.0.0)\n",
      "Requirement already satisfied: PyYAML>=3.10 in c:\\users\\lee\\miniconda3\\envs\\a1\\lib\\site-packages (from bokeh<3,>=2->dataprep) (6.0.1)\n",
      "Requirement already satisfied: tornado>=5.1 in c:\\users\\lee\\miniconda3\\envs\\a1\\lib\\site-packages (from bokeh<3,>=2->dataprep) (6.3.3)\n",
      "Requirement already satisfied: typing-extensions>=3.10.0 in c:\\users\\lee\\miniconda3\\envs\\a1\\lib\\site-packages (from bokeh<3,>=2->dataprep) (4.7.1)\n",
      "Requirement already satisfied: click>=8.0 in c:\\users\\lee\\miniconda3\\envs\\a1\\lib\\site-packages (from dask[array,dataframe,delayed]>=2022.3.0->dataprep) (8.1.7)\n",
      "Requirement already satisfied: cloudpickle>=1.5.0 in c:\\users\\lee\\miniconda3\\envs\\a1\\lib\\site-packages (from dask[array,dataframe,delayed]>=2022.3.0->dataprep) (2.2.1)\n",
      "Requirement already satisfied: fsspec>=2021.09.0 in c:\\users\\lee\\miniconda3\\envs\\a1\\lib\\site-packages (from dask[array,dataframe,delayed]>=2022.3.0->dataprep) (2023.9.0)\n",
      "Requirement already satisfied: partd>=1.2.0 in c:\\users\\lee\\miniconda3\\envs\\a1\\lib\\site-packages (from dask[array,dataframe,delayed]>=2022.3.0->dataprep) (1.4.0)\n",
      "Requirement already satisfied: toolz>=0.10.0 in c:\\users\\lee\\miniconda3\\envs\\a1\\lib\\site-packages (from dask[array,dataframe,delayed]>=2022.3.0->dataprep) (0.12.0)\n",
      "Requirement already satisfied: importlib-metadata>=4.13.0 in c:\\users\\lee\\miniconda3\\envs\\a1\\lib\\site-packages (from dask[array,dataframe,delayed]>=2022.3.0->dataprep) (6.8.0)\n",
      "Requirement already satisfied: Werkzeug>=2.2.2 in c:\\users\\lee\\miniconda3\\envs\\a1\\lib\\site-packages (from flask<3,>=2->dataprep) (2.3.7)\n",
      "Requirement already satisfied: itsdangerous>=2.0 in c:\\users\\lee\\miniconda3\\envs\\a1\\lib\\site-packages (from flask<3,>=2->dataprep) (2.1.2)\n",
      "Requirement already satisfied: Six in c:\\users\\lee\\miniconda3\\envs\\a1\\lib\\site-packages (from flask_cors<4.0.0,>=3.0.10->dataprep) (1.16.0)\n",
      "Requirement already satisfied: comm>=0.1.3 in c:\\users\\lee\\miniconda3\\envs\\a1\\lib\\site-packages (from ipywidgets<8.0,>=7.5->dataprep) (0.1.4)\n",
      "Requirement already satisfied: ipython-genutils~=0.2.0 in c:\\users\\lee\\miniconda3\\envs\\a1\\lib\\site-packages (from ipywidgets<8.0,>=7.5->dataprep) (0.2.0)\n",
      "Requirement already satisfied: traitlets>=4.3.1 in c:\\users\\lee\\miniconda3\\envs\\a1\\lib\\site-packages (from ipywidgets<8.0,>=7.5->dataprep) (5.9.0)\n",
      "Requirement already satisfied: widgetsnbextension~=3.6.5 in c:\\users\\lee\\miniconda3\\envs\\a1\\lib\\site-packages (from ipywidgets<8.0,>=7.5->dataprep) (3.6.5)\n",
      "Requirement already satisfied: ipython>=4.0.0 in c:\\users\\lee\\miniconda3\\envs\\a1\\lib\\site-packages (from ipywidgets<8.0,>=7.5->dataprep) (8.15.0)\n",
      "Requirement already satisfied: jupyterlab-widgets<3,>=1.0.0 in c:\\users\\lee\\miniconda3\\envs\\a1\\lib\\site-packages (from ipywidgets<8.0,>=7.5->dataprep) (1.1.5)\n",
      "Requirement already satisfied: MarkupSafe>=2.0 in c:\\users\\lee\\miniconda3\\envs\\a1\\lib\\site-packages (from jinja2<3.1,>=3.0->dataprep) (2.1.3)\n",
      "Requirement already satisfied: ply in c:\\users\\lee\\miniconda3\\envs\\a1\\lib\\site-packages (from jsonpath-ng<2.0,>=1.5->dataprep) (3.11)\n",
      "Requirement already satisfied: decorator in c:\\users\\lee\\miniconda3\\envs\\a1\\lib\\site-packages (from jsonpath-ng<2.0,>=1.5->dataprep) (5.1.1)\n",
      "Requirement already satisfied: joblib in c:\\users\\lee\\miniconda3\\envs\\a1\\lib\\site-packages (from nltk<4.0.0,>=3.6.7->dataprep) (1.3.2)\n",
      "Requirement already satisfied: python-dateutil>=2.8.1 in c:\\users\\lee\\miniconda3\\envs\\a1\\lib\\site-packages (from pandas<2.0,>=1.1->dataprep) (2.8.2)\n",
      "Requirement already satisfied: pytz>=2020.1 in c:\\users\\lee\\miniconda3\\envs\\a1\\lib\\site-packages (from pandas<2.0,>=1.1->dataprep) (2023.3.post1)\n",
      "Requirement already satisfied: pyparsing>=2.1.4 in c:\\users\\lee\\miniconda3\\envs\\a1\\lib\\site-packages (from pydot<2.0.0,>=1.4.2->dataprep) (3.1.1)\n",
      "Requirement already satisfied: colorama in c:\\users\\lee\\miniconda3\\envs\\a1\\lib\\site-packages (from tqdm<5.0,>=4.48->dataprep) (0.4.6)\n",
      "Requirement already satisfied: asttokens<3.0.0,>=2.0.0 in c:\\users\\lee\\miniconda3\\envs\\a1\\lib\\site-packages (from varname<0.9.0,>=0.8.1->dataprep) (2.4.0)\n",
      "Requirement already satisfied: executing<0.9.0,>=0.8.3 in c:\\users\\lee\\miniconda3\\envs\\a1\\lib\\site-packages (from varname<0.9.0,>=0.8.1->dataprep) (0.8.3)\n",
      "Requirement already satisfied: pure_eval<1.0.0 in c:\\users\\lee\\miniconda3\\envs\\a1\\lib\\site-packages (from varname<0.9.0,>=0.8.1->dataprep) (0.2.2)\n",
      "Requirement already satisfied: matplotlib in c:\\users\\lee\\miniconda3\\envs\\a1\\lib\\site-packages (from wordcloud<2.0,>=1.8->dataprep) (3.7.1)\n",
      "Requirement already satisfied: zipp>=0.5 in c:\\users\\lee\\miniconda3\\envs\\a1\\lib\\site-packages (from importlib-metadata>=4.13.0->dask[array,dataframe,delayed]>=2022.3.0->dataprep) (3.16.2)\n",
      "Requirement already satisfied: backcall in c:\\users\\lee\\miniconda3\\envs\\a1\\lib\\site-packages (from ipython>=4.0.0->ipywidgets<8.0,>=7.5->dataprep) (0.2.0)\n",
      "Requirement already satisfied: jedi>=0.16 in c:\\users\\lee\\miniconda3\\envs\\a1\\lib\\site-packages (from ipython>=4.0.0->ipywidgets<8.0,>=7.5->dataprep) (0.19.0)\n",
      "Requirement already satisfied: matplotlib-inline in c:\\users\\lee\\miniconda3\\envs\\a1\\lib\\site-packages (from ipython>=4.0.0->ipywidgets<8.0,>=7.5->dataprep) (0.1.6)\n",
      "Requirement already satisfied: pickleshare in c:\\users\\lee\\miniconda3\\envs\\a1\\lib\\site-packages (from ipython>=4.0.0->ipywidgets<8.0,>=7.5->dataprep) (0.7.5)\n",
      "Requirement already satisfied: prompt-toolkit!=3.0.37,<3.1.0,>=3.0.30 in c:\\users\\lee\\miniconda3\\envs\\a1\\lib\\site-packages (from ipython>=4.0.0->ipywidgets<8.0,>=7.5->dataprep) (3.0.39)\n",
      "Requirement already satisfied: pygments>=2.4.0 in c:\\users\\lee\\miniconda3\\envs\\a1\\lib\\site-packages (from ipython>=4.0.0->ipywidgets<8.0,>=7.5->dataprep) (2.16.1)\n",
      "Requirement already satisfied: stack-data in c:\\users\\lee\\miniconda3\\envs\\a1\\lib\\site-packages (from ipython>=4.0.0->ipywidgets<8.0,>=7.5->dataprep) (0.5.1)\n",
      "Requirement already satisfied: exceptiongroup in c:\\users\\lee\\miniconda3\\envs\\a1\\lib\\site-packages (from ipython>=4.0.0->ipywidgets<8.0,>=7.5->dataprep) (1.1.3)\n",
      "Requirement already satisfied: locket in c:\\users\\lee\\miniconda3\\envs\\a1\\lib\\site-packages (from partd>=1.2.0->dask[array,dataframe,delayed]>=2022.3.0->dataprep) (1.0.0)\n",
      "Requirement already satisfied: notebook>=4.4.1 in c:\\users\\lee\\miniconda3\\envs\\a1\\lib\\site-packages (from widgetsnbextension~=3.6.5->ipywidgets<8.0,>=7.5->dataprep) (7.0.3)\n",
      "Requirement already satisfied: idna>=2.0 in c:\\users\\lee\\miniconda3\\envs\\a1\\lib\\site-packages (from yarl<2.0,>=1.0->aiohttp<4.0,>=3.6->dataprep) (3.4)\n",
      "Requirement already satisfied: contourpy>=1.0.1 in c:\\users\\lee\\miniconda3\\envs\\a1\\lib\\site-packages (from matplotlib->wordcloud<2.0,>=1.8->dataprep) (1.1.0)\n",
      "Requirement already satisfied: cycler>=0.10 in c:\\users\\lee\\miniconda3\\envs\\a1\\lib\\site-packages (from matplotlib->wordcloud<2.0,>=1.8->dataprep) (0.11.0)\n",
      "Requirement already satisfied: fonttools>=4.22.0 in c:\\users\\lee\\miniconda3\\envs\\a1\\lib\\site-packages (from matplotlib->wordcloud<2.0,>=1.8->dataprep) (4.42.1)\n",
      "Requirement already satisfied: kiwisolver>=1.0.1 in c:\\users\\lee\\miniconda3\\envs\\a1\\lib\\site-packages (from matplotlib->wordcloud<2.0,>=1.8->dataprep) (1.4.5)\n",
      "Requirement already satisfied: importlib-resources>=3.2.0 in c:\\users\\lee\\miniconda3\\envs\\a1\\lib\\site-packages (from matplotlib->wordcloud<2.0,>=1.8->dataprep) (6.0.1)\n",
      "Requirement already satisfied: parso<0.9.0,>=0.8.3 in c:\\users\\lee\\miniconda3\\envs\\a1\\lib\\site-packages (from jedi>=0.16->ipython>=4.0.0->ipywidgets<8.0,>=7.5->dataprep) (0.8.3)\n",
      "Requirement already satisfied: jupyter-server<3,>=2.4.0 in c:\\users\\lee\\miniconda3\\envs\\a1\\lib\\site-packages (from notebook>=4.4.1->widgetsnbextension~=3.6.5->ipywidgets<8.0,>=7.5->dataprep) (2.7.3)\n",
      "Requirement already satisfied: jupyterlab-server<3,>=2.22.1 in c:\\users\\lee\\miniconda3\\envs\\a1\\lib\\site-packages (from notebook>=4.4.1->widgetsnbextension~=3.6.5->ipywidgets<8.0,>=7.5->dataprep) (2.24.0)\n",
      "Requirement already satisfied: jupyterlab<5,>=4.0.2 in c:\\users\\lee\\miniconda3\\envs\\a1\\lib\\site-packages (from notebook>=4.4.1->widgetsnbextension~=3.6.5->ipywidgets<8.0,>=7.5->dataprep) (4.0.5)\n",
      "Requirement already satisfied: notebook-shim<0.3,>=0.2 in c:\\users\\lee\\miniconda3\\envs\\a1\\lib\\site-packages (from notebook>=4.4.1->widgetsnbextension~=3.6.5->ipywidgets<8.0,>=7.5->dataprep) (0.2.3)\n",
      "Requirement already satisfied: wcwidth in c:\\users\\lee\\miniconda3\\envs\\a1\\lib\\site-packages (from prompt-toolkit!=3.0.37,<3.1.0,>=3.0.30->ipython>=4.0.0->ipywidgets<8.0,>=7.5->dataprep) (0.2.6)\n",
      "Requirement already satisfied: anyio>=3.1.0 in c:\\users\\lee\\miniconda3\\envs\\a1\\lib\\site-packages (from jupyter-server<3,>=2.4.0->notebook>=4.4.1->widgetsnbextension~=3.6.5->ipywidgets<8.0,>=7.5->dataprep) (4.0.0)\n",
      "Requirement already satisfied: argon2-cffi in c:\\users\\lee\\miniconda3\\envs\\a1\\lib\\site-packages (from jupyter-server<3,>=2.4.0->notebook>=4.4.1->widgetsnbextension~=3.6.5->ipywidgets<8.0,>=7.5->dataprep) (23.1.0)\n",
      "Requirement already satisfied: jupyter-client>=7.4.4 in c:\\users\\lee\\miniconda3\\envs\\a1\\lib\\site-packages (from jupyter-server<3,>=2.4.0->notebook>=4.4.1->widgetsnbextension~=3.6.5->ipywidgets<8.0,>=7.5->dataprep) (8.3.1)\n",
      "Requirement already satisfied: jupyter-core!=5.0.*,>=4.12 in c:\\users\\lee\\miniconda3\\envs\\a1\\lib\\site-packages (from jupyter-server<3,>=2.4.0->notebook>=4.4.1->widgetsnbextension~=3.6.5->ipywidgets<8.0,>=7.5->dataprep) (5.3.1)\n",
      "Requirement already satisfied: jupyter-events>=0.6.0 in c:\\users\\lee\\miniconda3\\envs\\a1\\lib\\site-packages (from jupyter-server<3,>=2.4.0->notebook>=4.4.1->widgetsnbextension~=3.6.5->ipywidgets<8.0,>=7.5->dataprep) (0.7.0)\n",
      "Requirement already satisfied: jupyter-server-terminals in c:\\users\\lee\\miniconda3\\envs\\a1\\lib\\site-packages (from jupyter-server<3,>=2.4.0->notebook>=4.4.1->widgetsnbextension~=3.6.5->ipywidgets<8.0,>=7.5->dataprep) (0.4.4)\n",
      "Requirement already satisfied: nbconvert>=6.4.4 in c:\\users\\lee\\miniconda3\\envs\\a1\\lib\\site-packages (from jupyter-server<3,>=2.4.0->notebook>=4.4.1->widgetsnbextension~=3.6.5->ipywidgets<8.0,>=7.5->dataprep) (7.8.0)\n",
      "Requirement already satisfied: nbformat>=5.3.0 in c:\\users\\lee\\miniconda3\\envs\\a1\\lib\\site-packages (from jupyter-server<3,>=2.4.0->notebook>=4.4.1->widgetsnbextension~=3.6.5->ipywidgets<8.0,>=7.5->dataprep) (5.9.2)\n",
      "Requirement already satisfied: overrides in c:\\users\\lee\\miniconda3\\envs\\a1\\lib\\site-packages (from jupyter-server<3,>=2.4.0->notebook>=4.4.1->widgetsnbextension~=3.6.5->ipywidgets<8.0,>=7.5->dataprep) (7.4.0)\n",
      "Requirement already satisfied: prometheus-client in c:\\users\\lee\\miniconda3\\envs\\a1\\lib\\site-packages (from jupyter-server<3,>=2.4.0->notebook>=4.4.1->widgetsnbextension~=3.6.5->ipywidgets<8.0,>=7.5->dataprep) (0.17.1)\n",
      "Requirement already satisfied: pywinpty in c:\\users\\lee\\miniconda3\\envs\\a1\\lib\\site-packages (from jupyter-server<3,>=2.4.0->notebook>=4.4.1->widgetsnbextension~=3.6.5->ipywidgets<8.0,>=7.5->dataprep) (2.0.11)\n",
      "Requirement already satisfied: pyzmq>=24 in c:\\users\\lee\\miniconda3\\envs\\a1\\lib\\site-packages (from jupyter-server<3,>=2.4.0->notebook>=4.4.1->widgetsnbextension~=3.6.5->ipywidgets<8.0,>=7.5->dataprep) (25.1.1)\n",
      "Requirement already satisfied: send2trash>=1.8.2 in c:\\users\\lee\\miniconda3\\envs\\a1\\lib\\site-packages (from jupyter-server<3,>=2.4.0->notebook>=4.4.1->widgetsnbextension~=3.6.5->ipywidgets<8.0,>=7.5->dataprep) (1.8.2)\n",
      "Requirement already satisfied: terminado>=0.8.3 in c:\\users\\lee\\miniconda3\\envs\\a1\\lib\\site-packages (from jupyter-server<3,>=2.4.0->notebook>=4.4.1->widgetsnbextension~=3.6.5->ipywidgets<8.0,>=7.5->dataprep) (0.17.1)\n",
      "Requirement already satisfied: websocket-client in c:\\users\\lee\\miniconda3\\envs\\a1\\lib\\site-packages (from jupyter-server<3,>=2.4.0->notebook>=4.4.1->widgetsnbextension~=3.6.5->ipywidgets<8.0,>=7.5->dataprep) (1.6.3)\n",
      "Requirement already satisfied: async-lru>=1.0.0 in c:\\users\\lee\\miniconda3\\envs\\a1\\lib\\site-packages (from jupyterlab<5,>=4.0.2->notebook>=4.4.1->widgetsnbextension~=3.6.5->ipywidgets<8.0,>=7.5->dataprep) (2.0.4)\n",
      "Requirement already satisfied: ipykernel in c:\\users\\lee\\miniconda3\\envs\\a1\\lib\\site-packages (from jupyterlab<5,>=4.0.2->notebook>=4.4.1->widgetsnbextension~=3.6.5->ipywidgets<8.0,>=7.5->dataprep) (6.25.2)\n",
      "Requirement already satisfied: jupyter-lsp>=2.0.0 in c:\\users\\lee\\miniconda3\\envs\\a1\\lib\\site-packages (from jupyterlab<5,>=4.0.2->notebook>=4.4.1->widgetsnbextension~=3.6.5->ipywidgets<8.0,>=7.5->dataprep) (2.2.0)\n",
      "Requirement already satisfied: tomli in c:\\users\\lee\\miniconda3\\envs\\a1\\lib\\site-packages (from jupyterlab<5,>=4.0.2->notebook>=4.4.1->widgetsnbextension~=3.6.5->ipywidgets<8.0,>=7.5->dataprep) (2.0.1)\n",
      "Requirement already satisfied: babel>=2.10 in c:\\users\\lee\\miniconda3\\envs\\a1\\lib\\site-packages (from jupyterlab-server<3,>=2.22.1->notebook>=4.4.1->widgetsnbextension~=3.6.5->ipywidgets<8.0,>=7.5->dataprep) (2.12.1)\n",
      "Requirement already satisfied: json5>=0.9.0 in c:\\users\\lee\\miniconda3\\envs\\a1\\lib\\site-packages (from jupyterlab-server<3,>=2.22.1->notebook>=4.4.1->widgetsnbextension~=3.6.5->ipywidgets<8.0,>=7.5->dataprep) (0.9.14)\n",
      "Requirement already satisfied: jsonschema>=4.17.3 in c:\\users\\lee\\miniconda3\\envs\\a1\\lib\\site-packages (from jupyterlab-server<3,>=2.22.1->notebook>=4.4.1->widgetsnbextension~=3.6.5->ipywidgets<8.0,>=7.5->dataprep) (4.19.0)\n",
      "Requirement already satisfied: requests>=2.28 in c:\\users\\lee\\miniconda3\\envs\\a1\\lib\\site-packages (from jupyterlab-server<3,>=2.22.1->notebook>=4.4.1->widgetsnbextension~=3.6.5->ipywidgets<8.0,>=7.5->dataprep) (2.31.0)\n",
      "Requirement already satisfied: sniffio>=1.1 in c:\\users\\lee\\miniconda3\\envs\\a1\\lib\\site-packages (from anyio>=3.1.0->jupyter-server<3,>=2.4.0->notebook>=4.4.1->widgetsnbextension~=3.6.5->ipywidgets<8.0,>=7.5->dataprep) (1.3.0)\n",
      "Requirement already satisfied: jsonschema-specifications>=2023.03.6 in c:\\users\\lee\\miniconda3\\envs\\a1\\lib\\site-packages (from jsonschema>=4.17.3->jupyterlab-server<3,>=2.22.1->notebook>=4.4.1->widgetsnbextension~=3.6.5->ipywidgets<8.0,>=7.5->dataprep) (2023.7.1)\n",
      "Requirement already satisfied: referencing>=0.28.4 in c:\\users\\lee\\miniconda3\\envs\\a1\\lib\\site-packages (from jsonschema>=4.17.3->jupyterlab-server<3,>=2.22.1->notebook>=4.4.1->widgetsnbextension~=3.6.5->ipywidgets<8.0,>=7.5->dataprep) (0.30.2)\n",
      "Requirement already satisfied: rpds-py>=0.7.1 in c:\\users\\lee\\miniconda3\\envs\\a1\\lib\\site-packages (from jsonschema>=4.17.3->jupyterlab-server<3,>=2.22.1->notebook>=4.4.1->widgetsnbextension~=3.6.5->ipywidgets<8.0,>=7.5->dataprep) (0.10.2)\n",
      "Requirement already satisfied: platformdirs>=2.5 in c:\\users\\lee\\miniconda3\\envs\\a1\\lib\\site-packages (from jupyter-core!=5.0.*,>=4.12->jupyter-server<3,>=2.4.0->notebook>=4.4.1->widgetsnbextension~=3.6.5->ipywidgets<8.0,>=7.5->dataprep) (3.10.0)\n",
      "Requirement already satisfied: pywin32>=300 in c:\\users\\lee\\miniconda3\\envs\\a1\\lib\\site-packages (from jupyter-core!=5.0.*,>=4.12->jupyter-server<3,>=2.4.0->notebook>=4.4.1->widgetsnbextension~=3.6.5->ipywidgets<8.0,>=7.5->dataprep) (306)\n",
      "Requirement already satisfied: python-json-logger>=2.0.4 in c:\\users\\lee\\miniconda3\\envs\\a1\\lib\\site-packages (from jupyter-events>=0.6.0->jupyter-server<3,>=2.4.0->notebook>=4.4.1->widgetsnbextension~=3.6.5->ipywidgets<8.0,>=7.5->dataprep) (2.0.7)\n",
      "Requirement already satisfied: rfc3339-validator in c:\\users\\lee\\miniconda3\\envs\\a1\\lib\\site-packages (from jupyter-events>=0.6.0->jupyter-server<3,>=2.4.0->notebook>=4.4.1->widgetsnbextension~=3.6.5->ipywidgets<8.0,>=7.5->dataprep) (0.1.4)\n",
      "Requirement already satisfied: rfc3986-validator>=0.1.1 in c:\\users\\lee\\miniconda3\\envs\\a1\\lib\\site-packages (from jupyter-events>=0.6.0->jupyter-server<3,>=2.4.0->notebook>=4.4.1->widgetsnbextension~=3.6.5->ipywidgets<8.0,>=7.5->dataprep) (0.1.1)\n",
      "Requirement already satisfied: beautifulsoup4 in c:\\users\\lee\\miniconda3\\envs\\a1\\lib\\site-packages (from nbconvert>=6.4.4->jupyter-server<3,>=2.4.0->notebook>=4.4.1->widgetsnbextension~=3.6.5->ipywidgets<8.0,>=7.5->dataprep) (4.12.2)\n",
      "Requirement already satisfied: bleach!=5.0.0 in c:\\users\\lee\\miniconda3\\envs\\a1\\lib\\site-packages (from nbconvert>=6.4.4->jupyter-server<3,>=2.4.0->notebook>=4.4.1->widgetsnbextension~=3.6.5->ipywidgets<8.0,>=7.5->dataprep) (6.0.0)\n",
      "Requirement already satisfied: defusedxml in c:\\users\\lee\\miniconda3\\envs\\a1\\lib\\site-packages (from nbconvert>=6.4.4->jupyter-server<3,>=2.4.0->notebook>=4.4.1->widgetsnbextension~=3.6.5->ipywidgets<8.0,>=7.5->dataprep) (0.7.1)\n",
      "Requirement already satisfied: jupyterlab-pygments in c:\\users\\lee\\miniconda3\\envs\\a1\\lib\\site-packages (from nbconvert>=6.4.4->jupyter-server<3,>=2.4.0->notebook>=4.4.1->widgetsnbextension~=3.6.5->ipywidgets<8.0,>=7.5->dataprep) (0.2.2)\n",
      "Requirement already satisfied: mistune<4,>=2.0.3 in c:\\users\\lee\\miniconda3\\envs\\a1\\lib\\site-packages (from nbconvert>=6.4.4->jupyter-server<3,>=2.4.0->notebook>=4.4.1->widgetsnbextension~=3.6.5->ipywidgets<8.0,>=7.5->dataprep) (3.0.1)\n",
      "Requirement already satisfied: nbclient>=0.5.0 in c:\\users\\lee\\miniconda3\\envs\\a1\\lib\\site-packages (from nbconvert>=6.4.4->jupyter-server<3,>=2.4.0->notebook>=4.4.1->widgetsnbextension~=3.6.5->ipywidgets<8.0,>=7.5->dataprep) (0.8.0)\n",
      "Requirement already satisfied: pandocfilters>=1.4.1 in c:\\users\\lee\\miniconda3\\envs\\a1\\lib\\site-packages (from nbconvert>=6.4.4->jupyter-server<3,>=2.4.0->notebook>=4.4.1->widgetsnbextension~=3.6.5->ipywidgets<8.0,>=7.5->dataprep) (1.5.0)\n",
      "Requirement already satisfied: tinycss2 in c:\\users\\lee\\miniconda3\\envs\\a1\\lib\\site-packages (from nbconvert>=6.4.4->jupyter-server<3,>=2.4.0->notebook>=4.4.1->widgetsnbextension~=3.6.5->ipywidgets<8.0,>=7.5->dataprep) (1.2.1)\n",
      "Requirement already satisfied: fastjsonschema in c:\\users\\lee\\miniconda3\\envs\\a1\\lib\\site-packages (from nbformat>=5.3.0->jupyter-server<3,>=2.4.0->notebook>=4.4.1->widgetsnbextension~=3.6.5->ipywidgets<8.0,>=7.5->dataprep) (2.18.0)\n",
      "Requirement already satisfied: urllib3<3,>=1.21.1 in c:\\users\\lee\\miniconda3\\envs\\a1\\lib\\site-packages (from requests>=2.28->jupyterlab-server<3,>=2.22.1->notebook>=4.4.1->widgetsnbextension~=3.6.5->ipywidgets<8.0,>=7.5->dataprep) (2.0.4)\n",
      "Requirement already satisfied: certifi>=2017.4.17 in c:\\users\\lee\\miniconda3\\envs\\a1\\lib\\site-packages (from requests>=2.28->jupyterlab-server<3,>=2.22.1->notebook>=4.4.1->widgetsnbextension~=3.6.5->ipywidgets<8.0,>=7.5->dataprep) (2023.7.22)\n",
      "Requirement already satisfied: argon2-cffi-bindings in c:\\users\\lee\\miniconda3\\envs\\a1\\lib\\site-packages (from argon2-cffi->jupyter-server<3,>=2.4.0->notebook>=4.4.1->widgetsnbextension~=3.6.5->ipywidgets<8.0,>=7.5->dataprep) (21.2.0)\n",
      "Requirement already satisfied: debugpy>=1.6.5 in c:\\users\\lee\\miniconda3\\envs\\a1\\lib\\site-packages (from ipykernel->jupyterlab<5,>=4.0.2->notebook>=4.4.1->widgetsnbextension~=3.6.5->ipywidgets<8.0,>=7.5->dataprep) (1.7.0)\n",
      "Requirement already satisfied: nest-asyncio in c:\\users\\lee\\miniconda3\\envs\\a1\\lib\\site-packages (from ipykernel->jupyterlab<5,>=4.0.2->notebook>=4.4.1->widgetsnbextension~=3.6.5->ipywidgets<8.0,>=7.5->dataprep) (1.5.7)\n",
      "Requirement already satisfied: psutil in c:\\users\\lee\\miniconda3\\envs\\a1\\lib\\site-packages (from ipykernel->jupyterlab<5,>=4.0.2->notebook>=4.4.1->widgetsnbextension~=3.6.5->ipywidgets<8.0,>=7.5->dataprep) (5.9.5)\n",
      "Requirement already satisfied: webencodings in c:\\users\\lee\\miniconda3\\envs\\a1\\lib\\site-packages (from bleach!=5.0.0->nbconvert>=6.4.4->jupyter-server<3,>=2.4.0->notebook>=4.4.1->widgetsnbextension~=3.6.5->ipywidgets<8.0,>=7.5->dataprep) (0.5.1)\n",
      "Requirement already satisfied: fqdn in c:\\users\\lee\\miniconda3\\envs\\a1\\lib\\site-packages (from jsonschema>=4.17.3->jupyterlab-server<3,>=2.22.1->notebook>=4.4.1->widgetsnbextension~=3.6.5->ipywidgets<8.0,>=7.5->dataprep) (1.5.1)\n",
      "Requirement already satisfied: isoduration in c:\\users\\lee\\miniconda3\\envs\\a1\\lib\\site-packages (from jsonschema>=4.17.3->jupyterlab-server<3,>=2.22.1->notebook>=4.4.1->widgetsnbextension~=3.6.5->ipywidgets<8.0,>=7.5->dataprep) (20.11.0)\n",
      "Requirement already satisfied: jsonpointer>1.13 in c:\\users\\lee\\miniconda3\\envs\\a1\\lib\\site-packages (from jsonschema>=4.17.3->jupyterlab-server<3,>=2.22.1->notebook>=4.4.1->widgetsnbextension~=3.6.5->ipywidgets<8.0,>=7.5->dataprep) (2.4)\n",
      "Requirement already satisfied: uri-template in c:\\users\\lee\\miniconda3\\envs\\a1\\lib\\site-packages (from jsonschema>=4.17.3->jupyterlab-server<3,>=2.22.1->notebook>=4.4.1->widgetsnbextension~=3.6.5->ipywidgets<8.0,>=7.5->dataprep) (1.3.0)\n",
      "Requirement already satisfied: webcolors>=1.11 in c:\\users\\lee\\miniconda3\\envs\\a1\\lib\\site-packages (from jsonschema>=4.17.3->jupyterlab-server<3,>=2.22.1->notebook>=4.4.1->widgetsnbextension~=3.6.5->ipywidgets<8.0,>=7.5->dataprep) (1.13)\n",
      "Requirement already satisfied: cffi>=1.0.1 in c:\\users\\lee\\miniconda3\\envs\\a1\\lib\\site-packages (from argon2-cffi-bindings->argon2-cffi->jupyter-server<3,>=2.4.0->notebook>=4.4.1->widgetsnbextension~=3.6.5->ipywidgets<8.0,>=7.5->dataprep) (1.15.1)\n",
      "Requirement already satisfied: soupsieve>1.2 in c:\\users\\lee\\miniconda3\\envs\\a1\\lib\\site-packages (from beautifulsoup4->nbconvert>=6.4.4->jupyter-server<3,>=2.4.0->notebook>=4.4.1->widgetsnbextension~=3.6.5->ipywidgets<8.0,>=7.5->dataprep) (2.5)\n",
      "Requirement already satisfied: pycparser in c:\\users\\lee\\miniconda3\\envs\\a1\\lib\\site-packages (from cffi>=1.0.1->argon2-cffi-bindings->argon2-cffi->jupyter-server<3,>=2.4.0->notebook>=4.4.1->widgetsnbextension~=3.6.5->ipywidgets<8.0,>=7.5->dataprep) (2.21)\n",
      "Requirement already satisfied: arrow>=0.15.0 in c:\\users\\lee\\miniconda3\\envs\\a1\\lib\\site-packages (from isoduration->jsonschema>=4.17.3->jupyterlab-server<3,>=2.22.1->notebook>=4.4.1->widgetsnbextension~=3.6.5->ipywidgets<8.0,>=7.5->dataprep) (1.2.3)\n",
      "Note: you may need to restart the kernel to use updated packages.\n"
     ]
    }
   ],
   "source": [
    "pip install dataprep"
   ]
  },
  {
   "cell_type": "code",
   "execution_count": 73,
   "metadata": {
    "scrolled": true
   },
   "outputs": [],
   "source": [
    "from dataprep.eda import plot\n",
    "import pandas as pd\n",
    "\n",
    "df = pd.read_csv(\"faculty_table.csv\")\n",
    "plot(df)"
   ]
  },
  {
   "cell_type": "markdown",
   "metadata": {},
   "source": [
    "Below are some examples:\n",
    "\n",
    "**Finding 1:** Assistant Professor# (~76) is more than 5x larger than Associate Professor# (10). \n",
    "\n",
    "**Questions:** Why did it happen? Is it common in all CS schools in the world? Will the gap go larger or smaller in five years? What actions can be taken to enlarge/shrink the gap?\n",
    "\n",
    "\n",
    "**Finding 2:** The Homepage has 22% missing values. \n",
    "\n",
    "**Questions:** Why are there so many missing values? Is it because many faculty do not have their own homepages or do not add their homepages to the school page? What actions can be taken to avoid this to happen in the future? "
   ]
  },
  {
   "cell_type": "markdown",
   "metadata": {},
   "source": [
    "## Task 2: Age Follows Normal Distribution?"
   ]
  },
  {
   "cell_type": "markdown",
   "metadata": {},
   "source": [
    "In this task, you start with a question and then figure out what data to collect.\n",
    "\n",
    "The question that you are interested in is `Does HKUST(GZ) Info Hub faculty age follow a normal distribution?`\n",
    "\n",
    "To estimate the age of a faculty member, you can collect the year in which s/he graduates from a university (`gradyear`) and then estimate `age` using the following equation:\n",
    "\n",
    "$$age \\approx 2023+23 - gradyear$$\n",
    "\n",
    "For example, if one graduates from a university in 1990, then the age is estimated as 2023+23-1990 = 56. \n",
    "\n"
   ]
  },
  {
   "cell_type": "markdown",
   "metadata": {},
   "source": [
    "### (a) Crawl Web Page"
   ]
  },
  {
   "cell_type": "markdown",
   "metadata": {},
   "source": [
    "You notice that faculty profile pages contain graduation information. For example, you can see that Dr. Yuyu LUO graduated from Tsinghua University in 2023 at [https://facultyprofiles.hkust-gz.edu.cn/faculty-personal-page/LUO-Yuyu/yuyuluo](https://facultyprofiles.hkust-gz.edu.cn/faculty-personal-page/LUO-Yuyu/yuyuluo). \n",
    "\n",
    "\n",
    "Please write code to download the profile pages (info hub faculties) and save each page as a text file. "
   ]
  },
  {
   "cell_type": "markdown",
   "metadata": {},
   "source": [
    "这部分前面已经写好了"
   ]
  },
  {
   "cell_type": "markdown",
   "metadata": {},
   "source": [
    "### (b) Extract Structured Data"
   ]
  },
  {
   "cell_type": "markdown",
   "metadata": {},
   "source": [
    "Please write code to extract the earliest graduation year (e.g., 2023 for Dr. Yuyu LUO) from each profile page, and create a csv file like [faculty_grad_year.csv](./faculty_grad_year.csv). "
   ]
  },
  {
   "cell_type": "code",
   "execution_count": 53,
   "metadata": {},
   "outputs": [
    {
     "name": "stdout",
     "output_type": "stream",
     "text": [
      "写入成功\n"
     ]
    }
   ],
   "source": [
    "#此前已将毕业年份保存，这里只需写入csv文件\n",
    "import pandas as pd\n",
    "\n",
    "df_1 = pd.read_csv(\"faculty_grad_year.csv\")\n",
    "df_1[\"gradyear\"]=year_list\n",
    "df_1[\"name\"]=name_list\n",
    "df_1.to_csv(\"faculty_grad_year.csv\", index=False)\n",
    "\n",
    "print(\"写入成功\")\n"
   ]
  },
  {
   "cell_type": "code",
   "execution_count": 54,
   "metadata": {
    "scrolled": true
   },
   "outputs": [
    {
     "data": {
      "text/html": [
       "<div>\n",
       "<style scoped>\n",
       "    .dataframe tbody tr th:only-of-type {\n",
       "        vertical-align: middle;\n",
       "    }\n",
       "\n",
       "    .dataframe tbody tr th {\n",
       "        vertical-align: top;\n",
       "    }\n",
       "\n",
       "    .dataframe thead th {\n",
       "        text-align: right;\n",
       "    }\n",
       "</style>\n",
       "<table border=\"1\" class=\"dataframe\">\n",
       "  <thead>\n",
       "    <tr style=\"text-align: right;\">\n",
       "      <th></th>\n",
       "      <th>name</th>\n",
       "      <th>gradyear</th>\n",
       "    </tr>\n",
       "  </thead>\n",
       "  <tbody>\n",
       "    <tr>\n",
       "      <th>0</th>\n",
       "      <td>Lei CHEN</td>\n",
       "      <td>2005</td>\n",
       "    </tr>\n",
       "    <tr>\n",
       "      <th>1</th>\n",
       "      <td>Jimmy Chi Hung FUNG</td>\n",
       "      <td>1990</td>\n",
       "    </tr>\n",
       "    <tr>\n",
       "      <th>2</th>\n",
       "      <td>Pan HUI</td>\n",
       "      <td>2008</td>\n",
       "    </tr>\n",
       "    <tr>\n",
       "      <th>3</th>\n",
       "      <td>Alexis Kai-Hon LAU</td>\n",
       "      <td>1991</td>\n",
       "    </tr>\n",
       "    <tr>\n",
       "      <th>4</th>\n",
       "      <td>Vincent Kin Nang LAU</td>\n",
       "      <td>1998</td>\n",
       "    </tr>\n",
       "  </tbody>\n",
       "</table>\n",
       "</div>"
      ],
      "text/plain": [
       "                   name  gradyear\n",
       "0              Lei CHEN      2005\n",
       "1   Jimmy Chi Hung FUNG      1990\n",
       "2               Pan HUI      2008\n",
       "3    Alexis Kai-Hon LAU      1991\n",
       "4  Vincent Kin Nang LAU      1998"
      ]
     },
     "execution_count": 54,
     "metadata": {},
     "output_type": "execute_result"
    }
   ],
   "source": [
    "df_1 = pd.read_csv(\"faculty_grad_year.csv\")\n",
    "df_1.head()"
   ]
  },
  {
   "cell_type": "markdown",
   "metadata": {},
   "source": [
    "### (c) Interesting Finding"
   ]
  },
  {
   "cell_type": "markdown",
   "metadata": {},
   "source": [
    "Similar to Task 1(c), you don't need to do anything here. Just look at different visualizations w.r.t. age and give yourself an answer to the question: `Does HKUST(GZ) Info Hub faculty age follow a normal distribution?`"
   ]
  },
  {
   "cell_type": "code",
   "execution_count": 55,
   "metadata": {},
   "outputs": [],
   "source": [
    "import matplotlib.pyplot as plt\n",
    "import seaborn as sns\n",
    "# %matplotlib inline\n",
    "# 各种细节配置如 文字大小，图例文字等杂项\n",
    "large = 22; med = 16; small = 12\n",
    "params = {'axes.titlesize': large,\n",
    "          'legend.fontsize': med,\n",
    "          'figure.figsize': (16, 10),\n",
    "          'axes.labelsize': med,\n",
    "          'axes.titlesize': med,\n",
    "          'xtick.labelsize': med,\n",
    "          'ytick.labelsize': med,\n",
    "          'figure.titlesize': large}\n",
    "plt.rcParams.update(params) # 设置 matplotlib 的各种参数\n",
    "plt.style.use('seaborn-whitegrid') # seaborn 主题\n",
    "sns.set_style(\"white\")\n",
    "plt.rc('font', **{'family': 'Microsoft YaHei, SimHei'})  # 设置中文字体的支持\n",
    "# sns.set(font='SimHei')  # 解决Seaborn中文显示问题，但会自动添加背景灰色网格\n",
    "plt.rcParams['axes.unicode_minus'] = False  # 解决保存图像是负号'-'显示为方块的问题\n",
    "\n",
    "import scipy.stats as stats # 统计学库\n",
    "from scipy.stats import norm  # 用于拟合正态分布曲线\n",
    "\n",
    "\n",
    "def norm_comparision_plot(data, figsize=(12, 10), color=\"#099DD9\",\n",
    "                          ax=None, surround=True, grid=True):\n",
    "    \"\"\"\n",
    "    function: 传入 DataFrame 指定行，绘制其概率分布曲线与正态分布曲线(比较)\n",
    "    color: 默认为标准天蓝  #F79420:浅橙  ‘green’：直接绿色(透明度自动匹配)\n",
    "    ggplot 经典三原色：'#F77B72'：浅红, '#7885CB'：浅紫, '#4CB5AB'：浅绿\n",
    "    ax=None: 默认无需绘制子图的效果；  surround：sns.despine 的经典组合，\n",
    "                                         默认开启，需要显式关闭\n",
    "    grid：是否添加网格线，默认开启，需显式关闭                             \n",
    "    \"\"\"\n",
    "    plt.figure(figsize=figsize) # 设置图片大小\n",
    "    # fit=norm: 同等条件下的正态曲线(默认黑色线)；lw-line width 线宽\n",
    "    sns.distplot(data, fit=norm, color=color, \\\n",
    "                 kde_kws={\"color\" :color, \"lw\" :3 }, ax=ax)\n",
    "    (mu, sigma) = norm.fit(data)  # 求同等条件下正态分布的 mu 和 sigma\n",
    "    # 添加图例：使用格式化输入，loc='best' 表示自动将图例放到最合适的位置\n",
    "    plt.legend(['Normal dist. ($\\mu=$ {:.2f} and $\\sigma=$ {:.2f} )'. \\\n",
    "               format(mu, sigma)] ,loc='best')\n",
    "    plt.ylabel('Frequency')\n",
    "    plt.title(\"Distribution\")\n",
    "    if surround == True:\n",
    "        # trim=True-隐藏上面跟右边的边框线，left=True-隐藏左边的边框线\n",
    "        # offset：偏移量，x 轴向下偏移，更加美观\n",
    "        sns.despine(trim=True, left=True, offset=10)\n",
    "    if grid == True:\n",
    "        plt.grid(True)  # 添加网格线\n",
    "\n"
   ]
  },
  {
   "cell_type": "code",
   "execution_count": 57,
   "metadata": {
    "scrolled": true
   },
   "outputs": [
    {
     "data": {
      "image/png": "[encoded data removed]",
      "text/plain": [
       "<Figure size 1600x1000 with 1 Axes>"
      ]
     },
     "metadata": {},
     "output_type": "display_data"
    }
   ],
   "source": [
    "import pandas as pd\n",
    "import matplotlib.pyplot as plt\n",
    "import numpy as np\n",
    "import seaborn as sns\n",
    "import scipy.stats as stats # 统计学库\n",
    "from scipy.stats import norm  # 用于拟合正态分布曲线\n",
    "\n",
    "df_1= pd.read_csv(\"faculty_grad_year.csv\")\n",
    "df_1[\"age\"] = 2023+23-df_1[\"gradyear\"]\n",
    "#之前将缺失值设为0，现在将其过滤掉\n",
    "df_1 = df_1.query(\"age <= 100\")\n",
    "age_counts = df_1[\"age\"].value_counts()\n",
    "\n",
    "#绘图\n",
    "plt.bar(age_counts.index, age_counts.values,width=1)\n",
    "plt.xlabel('Age')  \n",
    "plt.ylabel('Number of People')  \n",
    "plt.title('Age Distribution') \n",
    "plt.xticks(range(20, 71,10))\n",
    "plt.show()  # 显示图表"
   ]
  },
  {
   "cell_type": "code",
   "execution_count": 59,
   "metadata": {},
   "outputs": [
    {
     "data": {
      "image/png": "[encoded data removed]",
      "text/plain": [
       "<Figure size 1200x1000 with 1 Axes>"
      ]
     },
     "metadata": {},
     "output_type": "display_data"
    }
   ],
   "source": [
    "#拟合一条正态分布曲线  \n",
    "\n",
    "large = 22; med = 16; small = 12\n",
    "params = {'axes.titlesize': large,\n",
    "          'legend.fontsize': med,\n",
    "          'figure.figsize': (16, 10),\n",
    "          'axes.labelsize': med,\n",
    "          'axes.titlesize': med,\n",
    "          'xtick.labelsize': med,\n",
    "          'ytick.labelsize': med,\n",
    "          'figure.titlesize': large}\n",
    "plt.rcParams.update(params) # 设置 matplotlib 的各种参数\n",
    "plt.style.use('seaborn-whitegrid') # seaborn 主题\n",
    "sns.set_style(\"white\")\n",
    "plt.rc('font', **{'family': 'Microsoft YaHei, SimHei'})  # 设置中文字体的支持\n",
    "# sns.set(font='SimHei')  # 解决Seaborn中文显示问题，但会自动添加背景灰色网格\n",
    "plt.rcParams['axes.unicode_minus'] = False  # 解决保存图像是负号'-'显示为方块的问题\n",
    "\n",
    "def norm_comparision_plot(data, figsize=(12, 10), color=\"#099DD9\",\n",
    "                          ax=None, surround=True, grid=True):\n",
    "    plt.figure(figsize=figsize) # 设置图片大小\n",
    "    # fit=norm: 同等条件下的正态曲线(默认黑色线)；lw-line width 线宽\n",
    "    sns.distplot(data, fit=norm, color=color, \\\n",
    "                 kde_kws={\"color\" :color, \"lw\" :3 }, ax=ax)\n",
    "    (mu, sigma) = norm.fit(data)  # 求同等条件下正态分布的 mu 和 sigma\n",
    "    # 添加图例：使用格式化输入，loc='best' 表示自动将图例放到最合适的位置\n",
    "    plt.legend(['Normal dist. ($\\mu=$ {:.2f} and $\\sigma=$ {:.2f} )'. \\\n",
    "               format(mu, sigma)] ,loc='best')\n",
    "    plt.ylabel('Frequency')\n",
    "    plt.title(\"Distribution\")\n",
    "    if surround == True:\n",
    "        # trim=True-隐藏上面跟右边的边框线，left=True-隐藏左边的边框线\n",
    "        # offset：偏移量，x 轴向下偏移，更加美观\n",
    "        sns.despine(trim=True, left=True, offset=10)\n",
    "    if grid == True:\n",
    "        plt.grid(True)  # 添加网格线\n",
    "\n",
    "norm_comparision_plot(data=df_1[\"age\"])"
   ]
  },
  {
   "cell_type": "markdown",
   "metadata": {},
   "source": [
    "## Submission"
   ]
  },
  {
   "cell_type": "markdown",
   "metadata": {},
   "source": [
    "Complete the code in this notebook, and submit it to the Canvas assignment `Assignment 1`."
   ]
  }
 ],
 "metadata": {
  "kernelspec": {
   "display_name": "a1",
   "language": "python",
   "name": "a1"
  },
  "language_info": {
   "codemirror_mode": {
    "name": "ipython",
    "version": 3
   },
   "file_extension": ".py",
   "mimetype": "text/x-python",
   "name": "python",
   "nbconvert_exporter": "python",
   "pygments_lexer": "ipython3",
   "version": "3.9.18"
  },
  "latex_envs": {
   "LaTeX_envs_menu_present": true,
   "autoclose": false,
   "autocomplete": true,
   "bibliofile": "biblio.bib",
   "cite_by": "apalike",
   "current_citInitial": 1,
   "eqLabelWithNumbers": true,
   "eqNumInitial": 1,
   "hotkeys": {
    "equation": "Ctrl-E",
    "itemize": "Ctrl-I"
   },
   "labels_anchors": false,
   "latex_user_defs": false,
   "report_style_numbering": false,
   "user_envs_cfg": false
  },
  "toc": {
   "base_numbering": 1,
   "nav_menu": {},
   "number_sections": true,
   "sideBar": true,
   "skip_h1_title": false,
   "title_cell": "Table of Contents",
   "title_sidebar": "Contents",
   "toc_cell": false,
   "toc_position": {},
   "toc_section_display": true,
   "toc_window_display": false
  },
  "vscode": {
   "interpreter": {
    "hash": "1a1af0ee75eeea9e2e1ee996c87e7a2b11a0bebd85af04bb136d915cefc0abce"
   }
  }
 },
 "nbformat": 4,
 "nbformat_minor": 4
}
